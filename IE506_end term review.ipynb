{
 "cells": [
  {
   "cell_type": "markdown",
   "id": "ea720c4d",
   "metadata": {},
   "source": [
    "# CODE FOR GIVEN ALGORITHMS IN RESEARCH PAPER"
   ]
  },
  {
   "cell_type": "markdown",
   "id": "cb3cf440",
   "metadata": {},
   "source": [
    "MAKING THE DATASET FROM GIVEN FILES"
   ]
  },
  {
   "cell_type": "markdown",
   "id": "3fbe79ab",
   "metadata": {},
   "source": [
    "Dataset: \n",
    "\n",
    "In the research paper link for the dataset is given, which contain three folder as P,Q,N. these folder contains many files of theory releated to families of protin.\n",
    "In folder P there are files which belongs to positive class means releated to transport protin, in folder Q file also belongs to\n",
    "positive class and in N all files belongs to negative class means they are not related to transport protin.\n",
    "for P i made S=1 which means they are labelled and for U(Q union N) S=-1 means they are unlabelled.\n",
    "Our aim is that made a classifer using labelled and unlabelled data which classify positive and negative class for a datapoint.\n",
    "\n"
   ]
  },
  {
   "cell_type": "code",
   "execution_count": 321,
   "id": "4f5edf23",
   "metadata": {},
   "outputs": [],
   "source": [
    "import pandas as pd\n",
    "import os\n",
    "\n",
    "folder_path = 'C:/Users/nitin_2n4diox/Downloads/P'\n",
    "dataframes_list = []\n",
    "\n",
    "for file_name in os.listdir(folder_path):\n",
    "    file_path = os.path.join(folder_path, file_name)\n",
    "    with open(file_path, 'r') as file:\n",
    "        text = file.read()\n",
    "        dataframes_list.append(pd.DataFrame([str(text)], columns=['Text'], dtype=str))\n",
    "\n",
    "df1 = pd.concat(dataframes_list, ignore_index=True, axis=0)\n",
    "\n"
   ]
  },
  {
   "cell_type": "code",
   "execution_count": 322,
   "id": "9404de00",
   "metadata": {},
   "outputs": [
    {
     "data": {
      "text/html": [
       "<div>\n",
       "<style scoped>\n",
       "    .dataframe tbody tr th:only-of-type {\n",
       "        vertical-align: middle;\n",
       "    }\n",
       "\n",
       "    .dataframe tbody tr th {\n",
       "        vertical-align: top;\n",
       "    }\n",
       "\n",
       "    .dataframe thead th {\n",
       "        text-align: right;\n",
       "    }\n",
       "</style>\n",
       "<table border=\"1\" class=\"dataframe\">\n",
       "  <thead>\n",
       "    <tr style=\"text-align: right;\">\n",
       "      <th></th>\n",
       "      <th>Text</th>\n",
       "    </tr>\n",
       "  </thead>\n",
       "  <tbody>\n",
       "    <tr>\n",
       "      <th>0</th>\n",
       "      <td>AC   P0A770; P77145;\\nManganese transport prot...</td>\n",
       "    </tr>\n",
       "    <tr>\n",
       "      <th>1</th>\n",
       "      <td>AC   P0A769; P77145;\\nManganese transport prot...</td>\n",
       "    </tr>\n",
       "    <tr>\n",
       "      <th>2</th>\n",
       "      <td>AC   P37329;\\nMolybdate-binding periplasmic pr...</td>\n",
       "    </tr>\n",
       "    <tr>\n",
       "      <th>3</th>\n",
       "      <td>AC   P0AF02; P09834; P77537;\\nMolybdenum trans...</td>\n",
       "    </tr>\n",
       "    <tr>\n",
       "      <th>4</th>\n",
       "      <td>AC   P0AF01; P09834; P77537;\\nMolybdenum trans...</td>\n",
       "    </tr>\n",
       "    <tr>\n",
       "      <th>...</th>\n",
       "      <td>...</td>\n",
       "    </tr>\n",
       "    <tr>\n",
       "      <th>2394</th>\n",
       "      <td>AC   P01501; P01503;\\nMelittin precursor (Alle...</td>\n",
       "    </tr>\n",
       "    <tr>\n",
       "      <th>2395</th>\n",
       "      <td>AC   P40260;\\nAmmonium transporter MEP1.\\n\"Clo...</td>\n",
       "    </tr>\n",
       "    <tr>\n",
       "      <th>2396</th>\n",
       "      <td>AC   P41948;\\nAmmonium transporter MEP2.\\n\"A f...</td>\n",
       "    </tr>\n",
       "    <tr>\n",
       "      <th>2397</th>\n",
       "      <td>AC   P30344;\\nMercury resistance probable Hg t...</td>\n",
       "    </tr>\n",
       "    <tr>\n",
       "      <th>2398</th>\n",
       "      <td>AC   Q10419;\\nMesentericin Y105 secretion prot...</td>\n",
       "    </tr>\n",
       "  </tbody>\n",
       "</table>\n",
       "<p>2399 rows × 1 columns</p>\n",
       "</div>"
      ],
      "text/plain": [
       "                                                   Text\n",
       "0     AC   P0A770; P77145;\\nManganese transport prot...\n",
       "1     AC   P0A769; P77145;\\nManganese transport prot...\n",
       "2     AC   P37329;\\nMolybdate-binding periplasmic pr...\n",
       "3     AC   P0AF02; P09834; P77537;\\nMolybdenum trans...\n",
       "4     AC   P0AF01; P09834; P77537;\\nMolybdenum trans...\n",
       "...                                                 ...\n",
       "2394  AC   P01501; P01503;\\nMelittin precursor (Alle...\n",
       "2395  AC   P40260;\\nAmmonium transporter MEP1.\\n\"Clo...\n",
       "2396  AC   P41948;\\nAmmonium transporter MEP2.\\n\"A f...\n",
       "2397  AC   P30344;\\nMercury resistance probable Hg t...\n",
       "2398  AC   Q10419;\\nMesentericin Y105 secretion prot...\n",
       "\n",
       "[2399 rows x 1 columns]"
      ]
     },
     "execution_count": 322,
     "metadata": {},
     "output_type": "execute_result"
    }
   ],
   "source": [
    "df1"
   ]
  },
  {
   "cell_type": "code",
   "execution_count": 323,
   "id": "4f84605b",
   "metadata": {},
   "outputs": [],
   "source": [
    "df1['actual_label(Y)']='1'\n",
    "df1['S']='1'"
   ]
  },
  {
   "cell_type": "code",
   "execution_count": 324,
   "id": "4008ece5",
   "metadata": {},
   "outputs": [
    {
     "data": {
      "text/html": [
       "<div>\n",
       "<style scoped>\n",
       "    .dataframe tbody tr th:only-of-type {\n",
       "        vertical-align: middle;\n",
       "    }\n",
       "\n",
       "    .dataframe tbody tr th {\n",
       "        vertical-align: top;\n",
       "    }\n",
       "\n",
       "    .dataframe thead th {\n",
       "        text-align: right;\n",
       "    }\n",
       "</style>\n",
       "<table border=\"1\" class=\"dataframe\">\n",
       "  <thead>\n",
       "    <tr style=\"text-align: right;\">\n",
       "      <th></th>\n",
       "      <th>Text</th>\n",
       "      <th>actual_label(Y)</th>\n",
       "      <th>S</th>\n",
       "    </tr>\n",
       "  </thead>\n",
       "  <tbody>\n",
       "    <tr>\n",
       "      <th>0</th>\n",
       "      <td>AC   P0A770; P77145;\\nManganese transport prot...</td>\n",
       "      <td>1</td>\n",
       "      <td>1</td>\n",
       "    </tr>\n",
       "    <tr>\n",
       "      <th>1</th>\n",
       "      <td>AC   P0A769; P77145;\\nManganese transport prot...</td>\n",
       "      <td>1</td>\n",
       "      <td>1</td>\n",
       "    </tr>\n",
       "    <tr>\n",
       "      <th>2</th>\n",
       "      <td>AC   P37329;\\nMolybdate-binding periplasmic pr...</td>\n",
       "      <td>1</td>\n",
       "      <td>1</td>\n",
       "    </tr>\n",
       "    <tr>\n",
       "      <th>3</th>\n",
       "      <td>AC   P0AF02; P09834; P77537;\\nMolybdenum trans...</td>\n",
       "      <td>1</td>\n",
       "      <td>1</td>\n",
       "    </tr>\n",
       "    <tr>\n",
       "      <th>4</th>\n",
       "      <td>AC   P0AF01; P09834; P77537;\\nMolybdenum trans...</td>\n",
       "      <td>1</td>\n",
       "      <td>1</td>\n",
       "    </tr>\n",
       "    <tr>\n",
       "      <th>...</th>\n",
       "      <td>...</td>\n",
       "      <td>...</td>\n",
       "      <td>...</td>\n",
       "    </tr>\n",
       "    <tr>\n",
       "      <th>2394</th>\n",
       "      <td>AC   P01501; P01503;\\nMelittin precursor (Alle...</td>\n",
       "      <td>1</td>\n",
       "      <td>1</td>\n",
       "    </tr>\n",
       "    <tr>\n",
       "      <th>2395</th>\n",
       "      <td>AC   P40260;\\nAmmonium transporter MEP1.\\n\"Clo...</td>\n",
       "      <td>1</td>\n",
       "      <td>1</td>\n",
       "    </tr>\n",
       "    <tr>\n",
       "      <th>2396</th>\n",
       "      <td>AC   P41948;\\nAmmonium transporter MEP2.\\n\"A f...</td>\n",
       "      <td>1</td>\n",
       "      <td>1</td>\n",
       "    </tr>\n",
       "    <tr>\n",
       "      <th>2397</th>\n",
       "      <td>AC   P30344;\\nMercury resistance probable Hg t...</td>\n",
       "      <td>1</td>\n",
       "      <td>1</td>\n",
       "    </tr>\n",
       "    <tr>\n",
       "      <th>2398</th>\n",
       "      <td>AC   Q10419;\\nMesentericin Y105 secretion prot...</td>\n",
       "      <td>1</td>\n",
       "      <td>1</td>\n",
       "    </tr>\n",
       "  </tbody>\n",
       "</table>\n",
       "<p>2399 rows × 3 columns</p>\n",
       "</div>"
      ],
      "text/plain": [
       "                                                   Text actual_label(Y)  S\n",
       "0     AC   P0A770; P77145;\\nManganese transport prot...               1  1\n",
       "1     AC   P0A769; P77145;\\nManganese transport prot...               1  1\n",
       "2     AC   P37329;\\nMolybdate-binding periplasmic pr...               1  1\n",
       "3     AC   P0AF02; P09834; P77537;\\nMolybdenum trans...               1  1\n",
       "4     AC   P0AF01; P09834; P77537;\\nMolybdenum trans...               1  1\n",
       "...                                                 ...             ... ..\n",
       "2394  AC   P01501; P01503;\\nMelittin precursor (Alle...               1  1\n",
       "2395  AC   P40260;\\nAmmonium transporter MEP1.\\n\"Clo...               1  1\n",
       "2396  AC   P41948;\\nAmmonium transporter MEP2.\\n\"A f...               1  1\n",
       "2397  AC   P30344;\\nMercury resistance probable Hg t...               1  1\n",
       "2398  AC   Q10419;\\nMesentericin Y105 secretion prot...               1  1\n",
       "\n",
       "[2399 rows x 3 columns]"
      ]
     },
     "execution_count": 324,
     "metadata": {},
     "output_type": "execute_result"
    }
   ],
   "source": [
    "df1"
   ]
  },
  {
   "cell_type": "code",
   "execution_count": 325,
   "id": "4768f54f",
   "metadata": {},
   "outputs": [],
   "source": [
    "\n",
    "folder_path = 'C:/Users/nitin_2n4diox/Downloads/Q'\n",
    "dataframes_list = []\n",
    "\n",
    "for file_name in os.listdir(folder_path):\n",
    "    file_path = os.path.join(folder_path, file_name)\n",
    "    with open(file_path, 'r') as file:\n",
    "        text = file.read()\n",
    "        dataframes_list.append(pd.DataFrame([str(text)], columns=['Text'], dtype=str))\n",
    "\n",
    "df2 = pd.concat(dataframes_list, ignore_index=True, axis=0)\n"
   ]
  },
  {
   "cell_type": "code",
   "execution_count": 326,
   "id": "d45e0ff5",
   "metadata": {},
   "outputs": [],
   "source": [
    "df2['actual_label(Y)']='1'\n",
    "df2['S']='-1'"
   ]
  },
  {
   "cell_type": "code",
   "execution_count": 327,
   "id": "e1e8365c",
   "metadata": {},
   "outputs": [
    {
     "data": {
      "text/html": [
       "<div>\n",
       "<style scoped>\n",
       "    .dataframe tbody tr th:only-of-type {\n",
       "        vertical-align: middle;\n",
       "    }\n",
       "\n",
       "    .dataframe tbody tr th {\n",
       "        vertical-align: top;\n",
       "    }\n",
       "\n",
       "    .dataframe thead th {\n",
       "        text-align: right;\n",
       "    }\n",
       "</style>\n",
       "<table border=\"1\" class=\"dataframe\">\n",
       "  <thead>\n",
       "    <tr style=\"text-align: right;\">\n",
       "      <th></th>\n",
       "      <th>Text</th>\n",
       "      <th>actual_label(Y)</th>\n",
       "      <th>S</th>\n",
       "    </tr>\n",
       "  </thead>\n",
       "  <tbody>\n",
       "    <tr>\n",
       "      <th>0</th>\n",
       "      <td>AC   P46492;\\nProbable D-methionine transport ...</td>\n",
       "      <td>1</td>\n",
       "      <td>-1</td>\n",
       "    </tr>\n",
       "    <tr>\n",
       "      <th>1</th>\n",
       "      <td>AC   Q97TN5;\\nProbable manganese transport pro...</td>\n",
       "      <td>1</td>\n",
       "      <td>-1</td>\n",
       "    </tr>\n",
       "    <tr>\n",
       "      <th>2</th>\n",
       "      <td>AC   P57788; Q9DEY5; Q9DG24;\\nMonocarboxylate ...</td>\n",
       "      <td>1</td>\n",
       "      <td>-1</td>\n",
       "    </tr>\n",
       "    <tr>\n",
       "      <th>3</th>\n",
       "      <td>AC   O61703;\\nPhosphate carrier protein, mitoc...</td>\n",
       "      <td>1</td>\n",
       "      <td>-1</td>\n",
       "    </tr>\n",
       "    <tr>\n",
       "      <th>4</th>\n",
       "      <td>AC   Q9C8H0;\\nMultidrug resistance-associated ...</td>\n",
       "      <td>1</td>\n",
       "      <td>-1</td>\n",
       "    </tr>\n",
       "    <tr>\n",
       "      <th>...</th>\n",
       "      <td>...</td>\n",
       "      <td>...</td>\n",
       "      <td>...</td>\n",
       "    </tr>\n",
       "    <tr>\n",
       "      <th>343</th>\n",
       "      <td>AC   P13345;\\nLysis protein for colicin E6 pre...</td>\n",
       "      <td>1</td>\n",
       "      <td>-1</td>\n",
       "    </tr>\n",
       "    <tr>\n",
       "      <th>344</th>\n",
       "      <td>AC   P02911;\\nLysine-arginine-ornithine-bindin...</td>\n",
       "      <td>1</td>\n",
       "      <td>-1</td>\n",
       "    </tr>\n",
       "    <tr>\n",
       "      <th>345</th>\n",
       "      <td>AC   Q89A97;\\nMultidrug resistance-like ATP-bi...</td>\n",
       "      <td>1</td>\n",
       "      <td>-1</td>\n",
       "    </tr>\n",
       "    <tr>\n",
       "      <th>346</th>\n",
       "      <td>AC   O80725;\\nMultidrug resistance protein 4 (...</td>\n",
       "      <td>1</td>\n",
       "      <td>-1</td>\n",
       "    </tr>\n",
       "    <tr>\n",
       "      <th>347</th>\n",
       "      <td>AC   Q8FAX1;\\nMultidrug resistance protein mdt...</td>\n",
       "      <td>1</td>\n",
       "      <td>-1</td>\n",
       "    </tr>\n",
       "  </tbody>\n",
       "</table>\n",
       "<p>348 rows × 3 columns</p>\n",
       "</div>"
      ],
      "text/plain": [
       "                                                  Text actual_label(Y)   S\n",
       "0    AC   P46492;\\nProbable D-methionine transport ...               1  -1\n",
       "1    AC   Q97TN5;\\nProbable manganese transport pro...               1  -1\n",
       "2    AC   P57788; Q9DEY5; Q9DG24;\\nMonocarboxylate ...               1  -1\n",
       "3    AC   O61703;\\nPhosphate carrier protein, mitoc...               1  -1\n",
       "4    AC   Q9C8H0;\\nMultidrug resistance-associated ...               1  -1\n",
       "..                                                 ...             ...  ..\n",
       "343  AC   P13345;\\nLysis protein for colicin E6 pre...               1  -1\n",
       "344  AC   P02911;\\nLysine-arginine-ornithine-bindin...               1  -1\n",
       "345  AC   Q89A97;\\nMultidrug resistance-like ATP-bi...               1  -1\n",
       "346  AC   O80725;\\nMultidrug resistance protein 4 (...               1  -1\n",
       "347  AC   Q8FAX1;\\nMultidrug resistance protein mdt...               1  -1\n",
       "\n",
       "[348 rows x 3 columns]"
      ]
     },
     "execution_count": 327,
     "metadata": {},
     "output_type": "execute_result"
    }
   ],
   "source": [
    "df2"
   ]
  },
  {
   "cell_type": "code",
   "execution_count": 328,
   "id": "b112c450",
   "metadata": {},
   "outputs": [],
   "source": [
    "folder_path = 'C:/Users/nitin_2n4diox/Downloads/N'\n",
    "dataframes_list = []\n",
    "\n",
    "for file_name in os.listdir(folder_path):\n",
    "    file_path = os.path.join(folder_path, file_name)\n",
    "    with open(file_path, 'r') as file:\n",
    "        text = file.read()\n",
    "        dataframes_list.append(pd.DataFrame([str(text)], columns=['Text'], dtype=str))\n",
    "\n",
    "df3 = pd.concat(dataframes_list, ignore_index=True, axis=0)\n"
   ]
  },
  {
   "cell_type": "code",
   "execution_count": 329,
   "id": "764cef69",
   "metadata": {},
   "outputs": [],
   "source": [
    "df3['actual_label(Y)']='-1'\n",
    "df3['S']='-1'"
   ]
  },
  {
   "cell_type": "code",
   "execution_count": 330,
   "id": "65207baa",
   "metadata": {},
   "outputs": [
    {
     "data": {
      "text/html": [
       "<div>\n",
       "<style scoped>\n",
       "    .dataframe tbody tr th:only-of-type {\n",
       "        vertical-align: middle;\n",
       "    }\n",
       "\n",
       "    .dataframe tbody tr th {\n",
       "        vertical-align: top;\n",
       "    }\n",
       "\n",
       "    .dataframe thead th {\n",
       "        text-align: right;\n",
       "    }\n",
       "</style>\n",
       "<table border=\"1\" class=\"dataframe\">\n",
       "  <thead>\n",
       "    <tr style=\"text-align: right;\">\n",
       "      <th></th>\n",
       "      <th>Text</th>\n",
       "      <th>actual_label(Y)</th>\n",
       "      <th>S</th>\n",
       "    </tr>\n",
       "  </thead>\n",
       "  <tbody>\n",
       "    <tr>\n",
       "      <th>0</th>\n",
       "      <td>AC   Q20YV7;\\nS-adenosylmethionine synthetase ...</td>\n",
       "      <td>-1</td>\n",
       "      <td>-1</td>\n",
       "    </tr>\n",
       "    <tr>\n",
       "      <th>1</th>\n",
       "      <td>AC   Q5FSK6;\\nS-adenosylmethionine synthetase ...</td>\n",
       "      <td>-1</td>\n",
       "      <td>-1</td>\n",
       "    </tr>\n",
       "    <tr>\n",
       "      <th>2</th>\n",
       "      <td>AC   Q2RK28;\\nS-adenosylmethionine synthetase ...</td>\n",
       "      <td>-1</td>\n",
       "      <td>-1</td>\n",
       "    </tr>\n",
       "    <tr>\n",
       "      <th>3</th>\n",
       "      <td>AC   P78003;\\nS-adenosylmethionine synthetase ...</td>\n",
       "      <td>-1</td>\n",
       "      <td>-1</td>\n",
       "    </tr>\n",
       "    <tr>\n",
       "      <th>4</th>\n",
       "      <td>AC   Q9RL99; Q68VX2;\\nS-adenosylmethionine syn...</td>\n",
       "      <td>-1</td>\n",
       "      <td>-1</td>\n",
       "    </tr>\n",
       "    <tr>\n",
       "      <th>...</th>\n",
       "      <td>...</td>\n",
       "      <td>...</td>\n",
       "      <td>...</td>\n",
       "    </tr>\n",
       "    <tr>\n",
       "      <th>4553</th>\n",
       "      <td>AC   Q8CU52;\\nAlkylmercury lyase (EC 4.99.1.2)...</td>\n",
       "      <td>-1</td>\n",
       "      <td>-1</td>\n",
       "    </tr>\n",
       "    <tr>\n",
       "      <th>4554</th>\n",
       "      <td>AC   Q5R6F1;\\nMesoderm development candidate 2...</td>\n",
       "      <td>-1</td>\n",
       "      <td>-1</td>\n",
       "    </tr>\n",
       "    <tr>\n",
       "      <th>4555</th>\n",
       "      <td>AC   P44502;\\nCystathionine gamma-synthase (EC...</td>\n",
       "      <td>-1</td>\n",
       "      <td>-1</td>\n",
       "    </tr>\n",
       "    <tr>\n",
       "      <th>4556</th>\n",
       "      <td>AC   P66875; O53427;\\nCystathionine gamma-synt...</td>\n",
       "      <td>-1</td>\n",
       "      <td>-1</td>\n",
       "    </tr>\n",
       "    <tr>\n",
       "      <th>4557</th>\n",
       "      <td>AC   Q6A816;\\nArgininosuccinate lyase (EC 4.3....</td>\n",
       "      <td>-1</td>\n",
       "      <td>-1</td>\n",
       "    </tr>\n",
       "  </tbody>\n",
       "</table>\n",
       "<p>4558 rows × 3 columns</p>\n",
       "</div>"
      ],
      "text/plain": [
       "                                                   Text actual_label(Y)   S\n",
       "0     AC   Q20YV7;\\nS-adenosylmethionine synthetase ...              -1  -1\n",
       "1     AC   Q5FSK6;\\nS-adenosylmethionine synthetase ...              -1  -1\n",
       "2     AC   Q2RK28;\\nS-adenosylmethionine synthetase ...              -1  -1\n",
       "3     AC   P78003;\\nS-adenosylmethionine synthetase ...              -1  -1\n",
       "4     AC   Q9RL99; Q68VX2;\\nS-adenosylmethionine syn...              -1  -1\n",
       "...                                                 ...             ...  ..\n",
       "4553  AC   Q8CU52;\\nAlkylmercury lyase (EC 4.99.1.2)...              -1  -1\n",
       "4554  AC   Q5R6F1;\\nMesoderm development candidate 2...              -1  -1\n",
       "4555  AC   P44502;\\nCystathionine gamma-synthase (EC...              -1  -1\n",
       "4556  AC   P66875; O53427;\\nCystathionine gamma-synt...              -1  -1\n",
       "4557  AC   Q6A816;\\nArgininosuccinate lyase (EC 4.3....              -1  -1\n",
       "\n",
       "[4558 rows x 3 columns]"
      ]
     },
     "execution_count": 330,
     "metadata": {},
     "output_type": "execute_result"
    }
   ],
   "source": [
    "df3"
   ]
  },
  {
   "cell_type": "code",
   "execution_count": 331,
   "id": "0053af21",
   "metadata": {},
   "outputs": [],
   "source": [
    "#CONCAT ALL DATA \n",
    "df= pd.concat([df1, df2, df3], axis=0,sort=False)"
   ]
  },
  {
   "cell_type": "code",
   "execution_count": 332,
   "id": "2fa0bc03",
   "metadata": {},
   "outputs": [
    {
     "data": {
      "text/html": [
       "<div>\n",
       "<style scoped>\n",
       "    .dataframe tbody tr th:only-of-type {\n",
       "        vertical-align: middle;\n",
       "    }\n",
       "\n",
       "    .dataframe tbody tr th {\n",
       "        vertical-align: top;\n",
       "    }\n",
       "\n",
       "    .dataframe thead th {\n",
       "        text-align: right;\n",
       "    }\n",
       "</style>\n",
       "<table border=\"1\" class=\"dataframe\">\n",
       "  <thead>\n",
       "    <tr style=\"text-align: right;\">\n",
       "      <th></th>\n",
       "      <th>Text</th>\n",
       "      <th>actual_label(Y)</th>\n",
       "      <th>S</th>\n",
       "    </tr>\n",
       "  </thead>\n",
       "  <tbody>\n",
       "    <tr>\n",
       "      <th>0</th>\n",
       "      <td>AC   P0A770; P77145;\\nManganese transport prot...</td>\n",
       "      <td>1</td>\n",
       "      <td>1</td>\n",
       "    </tr>\n",
       "    <tr>\n",
       "      <th>1</th>\n",
       "      <td>AC   P0A769; P77145;\\nManganese transport prot...</td>\n",
       "      <td>1</td>\n",
       "      <td>1</td>\n",
       "    </tr>\n",
       "    <tr>\n",
       "      <th>2</th>\n",
       "      <td>AC   P37329;\\nMolybdate-binding periplasmic pr...</td>\n",
       "      <td>1</td>\n",
       "      <td>1</td>\n",
       "    </tr>\n",
       "    <tr>\n",
       "      <th>3</th>\n",
       "      <td>AC   P0AF02; P09834; P77537;\\nMolybdenum trans...</td>\n",
       "      <td>1</td>\n",
       "      <td>1</td>\n",
       "    </tr>\n",
       "    <tr>\n",
       "      <th>4</th>\n",
       "      <td>AC   P0AF01; P09834; P77537;\\nMolybdenum trans...</td>\n",
       "      <td>1</td>\n",
       "      <td>1</td>\n",
       "    </tr>\n",
       "    <tr>\n",
       "      <th>...</th>\n",
       "      <td>...</td>\n",
       "      <td>...</td>\n",
       "      <td>...</td>\n",
       "    </tr>\n",
       "    <tr>\n",
       "      <th>4553</th>\n",
       "      <td>AC   Q8CU52;\\nAlkylmercury lyase (EC 4.99.1.2)...</td>\n",
       "      <td>-1</td>\n",
       "      <td>-1</td>\n",
       "    </tr>\n",
       "    <tr>\n",
       "      <th>4554</th>\n",
       "      <td>AC   Q5R6F1;\\nMesoderm development candidate 2...</td>\n",
       "      <td>-1</td>\n",
       "      <td>-1</td>\n",
       "    </tr>\n",
       "    <tr>\n",
       "      <th>4555</th>\n",
       "      <td>AC   P44502;\\nCystathionine gamma-synthase (EC...</td>\n",
       "      <td>-1</td>\n",
       "      <td>-1</td>\n",
       "    </tr>\n",
       "    <tr>\n",
       "      <th>4556</th>\n",
       "      <td>AC   P66875; O53427;\\nCystathionine gamma-synt...</td>\n",
       "      <td>-1</td>\n",
       "      <td>-1</td>\n",
       "    </tr>\n",
       "    <tr>\n",
       "      <th>4557</th>\n",
       "      <td>AC   Q6A816;\\nArgininosuccinate lyase (EC 4.3....</td>\n",
       "      <td>-1</td>\n",
       "      <td>-1</td>\n",
       "    </tr>\n",
       "  </tbody>\n",
       "</table>\n",
       "<p>7305 rows × 3 columns</p>\n",
       "</div>"
      ],
      "text/plain": [
       "                                                   Text actual_label(Y)   S\n",
       "0     AC   P0A770; P77145;\\nManganese transport prot...               1   1\n",
       "1     AC   P0A769; P77145;\\nManganese transport prot...               1   1\n",
       "2     AC   P37329;\\nMolybdate-binding periplasmic pr...               1   1\n",
       "3     AC   P0AF02; P09834; P77537;\\nMolybdenum trans...               1   1\n",
       "4     AC   P0AF01; P09834; P77537;\\nMolybdenum trans...               1   1\n",
       "...                                                 ...             ...  ..\n",
       "4553  AC   Q8CU52;\\nAlkylmercury lyase (EC 4.99.1.2)...              -1  -1\n",
       "4554  AC   Q5R6F1;\\nMesoderm development candidate 2...              -1  -1\n",
       "4555  AC   P44502;\\nCystathionine gamma-synthase (EC...              -1  -1\n",
       "4556  AC   P66875; O53427;\\nCystathionine gamma-synt...              -1  -1\n",
       "4557  AC   Q6A816;\\nArgininosuccinate lyase (EC 4.3....              -1  -1\n",
       "\n",
       "[7305 rows x 3 columns]"
      ]
     },
     "execution_count": 332,
     "metadata": {},
     "output_type": "execute_result"
    }
   ],
   "source": [
    "df"
   ]
  },
  {
   "cell_type": "code",
   "execution_count": 333,
   "id": "cc04d13a",
   "metadata": {},
   "outputs": [],
   "source": [
    "#to make text from pandas.core.Series.series\n",
    "df.to_csv('file3.csv', index=False)"
   ]
  },
  {
   "cell_type": "code",
   "execution_count": 334,
   "id": "4abb3a5f",
   "metadata": {},
   "outputs": [
    {
     "data": {
      "text/html": [
       "<div>\n",
       "<style scoped>\n",
       "    .dataframe tbody tr th:only-of-type {\n",
       "        vertical-align: middle;\n",
       "    }\n",
       "\n",
       "    .dataframe tbody tr th {\n",
       "        vertical-align: top;\n",
       "    }\n",
       "\n",
       "    .dataframe thead th {\n",
       "        text-align: right;\n",
       "    }\n",
       "</style>\n",
       "<table border=\"1\" class=\"dataframe\">\n",
       "  <thead>\n",
       "    <tr style=\"text-align: right;\">\n",
       "      <th></th>\n",
       "      <th>Text</th>\n",
       "      <th>actual_label(Y)</th>\n",
       "      <th>S</th>\n",
       "    </tr>\n",
       "  </thead>\n",
       "  <tbody>\n",
       "    <tr>\n",
       "      <th>0</th>\n",
       "      <td>AC   P0A770; P77145;\\nManganese transport prot...</td>\n",
       "      <td>1</td>\n",
       "      <td>1</td>\n",
       "    </tr>\n",
       "    <tr>\n",
       "      <th>1</th>\n",
       "      <td>AC   P0A769; P77145;\\nManganese transport prot...</td>\n",
       "      <td>1</td>\n",
       "      <td>1</td>\n",
       "    </tr>\n",
       "    <tr>\n",
       "      <th>2</th>\n",
       "      <td>AC   P37329;\\nMolybdate-binding periplasmic pr...</td>\n",
       "      <td>1</td>\n",
       "      <td>1</td>\n",
       "    </tr>\n",
       "    <tr>\n",
       "      <th>3</th>\n",
       "      <td>AC   P0AF02; P09834; P77537;\\nMolybdenum trans...</td>\n",
       "      <td>1</td>\n",
       "      <td>1</td>\n",
       "    </tr>\n",
       "    <tr>\n",
       "      <th>4</th>\n",
       "      <td>AC   P0AF01; P09834; P77537;\\nMolybdenum trans...</td>\n",
       "      <td>1</td>\n",
       "      <td>1</td>\n",
       "    </tr>\n",
       "    <tr>\n",
       "      <th>...</th>\n",
       "      <td>...</td>\n",
       "      <td>...</td>\n",
       "      <td>...</td>\n",
       "    </tr>\n",
       "    <tr>\n",
       "      <th>7300</th>\n",
       "      <td>AC   Q8CU52;\\nAlkylmercury lyase (EC 4.99.1.2)...</td>\n",
       "      <td>-1</td>\n",
       "      <td>-1</td>\n",
       "    </tr>\n",
       "    <tr>\n",
       "      <th>7301</th>\n",
       "      <td>AC   Q5R6F1;\\nMesoderm development candidate 2...</td>\n",
       "      <td>-1</td>\n",
       "      <td>-1</td>\n",
       "    </tr>\n",
       "    <tr>\n",
       "      <th>7302</th>\n",
       "      <td>AC   P44502;\\nCystathionine gamma-synthase (EC...</td>\n",
       "      <td>-1</td>\n",
       "      <td>-1</td>\n",
       "    </tr>\n",
       "    <tr>\n",
       "      <th>7303</th>\n",
       "      <td>AC   P66875; O53427;\\nCystathionine gamma-synt...</td>\n",
       "      <td>-1</td>\n",
       "      <td>-1</td>\n",
       "    </tr>\n",
       "    <tr>\n",
       "      <th>7304</th>\n",
       "      <td>AC   Q6A816;\\nArgininosuccinate lyase (EC 4.3....</td>\n",
       "      <td>-1</td>\n",
       "      <td>-1</td>\n",
       "    </tr>\n",
       "  </tbody>\n",
       "</table>\n",
       "<p>7305 rows × 3 columns</p>\n",
       "</div>"
      ],
      "text/plain": [
       "                                                   Text  actual_label(Y)  S\n",
       "0     AC   P0A770; P77145;\\nManganese transport prot...                1  1\n",
       "1     AC   P0A769; P77145;\\nManganese transport prot...                1  1\n",
       "2     AC   P37329;\\nMolybdate-binding periplasmic pr...                1  1\n",
       "3     AC   P0AF02; P09834; P77537;\\nMolybdenum trans...                1  1\n",
       "4     AC   P0AF01; P09834; P77537;\\nMolybdenum trans...                1  1\n",
       "...                                                 ...              ... ..\n",
       "7300  AC   Q8CU52;\\nAlkylmercury lyase (EC 4.99.1.2)...               -1 -1\n",
       "7301  AC   Q5R6F1;\\nMesoderm development candidate 2...               -1 -1\n",
       "7302  AC   P44502;\\nCystathionine gamma-synthase (EC...               -1 -1\n",
       "7303  AC   P66875; O53427;\\nCystathionine gamma-synt...               -1 -1\n",
       "7304  AC   Q6A816;\\nArgininosuccinate lyase (EC 4.3....               -1 -1\n",
       "\n",
       "[7305 rows x 3 columns]"
      ]
     },
     "execution_count": 334,
     "metadata": {},
     "output_type": "execute_result"
    }
   ],
   "source": [
    "DF = pd.read_csv('file3.csv')\n",
    "DF"
   ]
  },
  {
   "cell_type": "code",
   "execution_count": 335,
   "id": "331e4184",
   "metadata": {},
   "outputs": [
    {
     "data": {
      "text/plain": [
       "numpy.int64"
      ]
     },
     "execution_count": 335,
     "metadata": {},
     "output_type": "execute_result"
    }
   ],
   "source": [
    "type(DF['Text'][0])\n",
    "type(DF['S'][0])"
   ]
  },
  {
   "cell_type": "code",
   "execution_count": null,
   "id": "f7b2528f",
   "metadata": {},
   "outputs": [],
   "source": []
  },
  {
   "cell_type": "code",
   "execution_count": null,
   "id": "42775626",
   "metadata": {},
   "outputs": [],
   "source": []
  },
  {
   "cell_type": "markdown",
   "id": "532f1668",
   "metadata": {},
   "source": [
    "PREPROCESSING THE TEXT DATASEET AND CONVERTING IN TO VECTOR USING TF-IDF."
   ]
  },
  {
   "cell_type": "code",
   "execution_count": 336,
   "id": "fafc29f8",
   "metadata": {},
   "outputs": [],
   "source": [
    "from sklearn.feature_extraction.text import CountVectorizer, TfidfVectorizer"
   ]
  },
  {
   "cell_type": "code",
   "execution_count": 337,
   "id": "5eca3e1c",
   "metadata": {},
   "outputs": [
    {
     "data": {
      "text/html": [
       "<div>\n",
       "<style scoped>\n",
       "    .dataframe tbody tr th:only-of-type {\n",
       "        vertical-align: middle;\n",
       "    }\n",
       "\n",
       "    .dataframe tbody tr th {\n",
       "        vertical-align: top;\n",
       "    }\n",
       "\n",
       "    .dataframe thead th {\n",
       "        text-align: right;\n",
       "    }\n",
       "</style>\n",
       "<table border=\"1\" class=\"dataframe\">\n",
       "  <thead>\n",
       "    <tr style=\"text-align: right;\">\n",
       "      <th></th>\n",
       "      <th>Text</th>\n",
       "      <th>actual_label(Y)</th>\n",
       "      <th>S</th>\n",
       "    </tr>\n",
       "  </thead>\n",
       "  <tbody>\n",
       "    <tr>\n",
       "      <th>0</th>\n",
       "      <td>AC   P0A770; P77145;\\nManganese transport prot...</td>\n",
       "      <td>1</td>\n",
       "      <td>1</td>\n",
       "    </tr>\n",
       "    <tr>\n",
       "      <th>1</th>\n",
       "      <td>AC   P0A769; P77145;\\nManganese transport prot...</td>\n",
       "      <td>1</td>\n",
       "      <td>1</td>\n",
       "    </tr>\n",
       "    <tr>\n",
       "      <th>2</th>\n",
       "      <td>AC   P37329;\\nMolybdate-binding periplasmic pr...</td>\n",
       "      <td>1</td>\n",
       "      <td>1</td>\n",
       "    </tr>\n",
       "    <tr>\n",
       "      <th>3</th>\n",
       "      <td>AC   P0AF02; P09834; P77537;\\nMolybdenum trans...</td>\n",
       "      <td>1</td>\n",
       "      <td>1</td>\n",
       "    </tr>\n",
       "    <tr>\n",
       "      <th>4</th>\n",
       "      <td>AC   P0AF01; P09834; P77537;\\nMolybdenum trans...</td>\n",
       "      <td>1</td>\n",
       "      <td>1</td>\n",
       "    </tr>\n",
       "  </tbody>\n",
       "</table>\n",
       "</div>"
      ],
      "text/plain": [
       "                                                Text  actual_label(Y)  S\n",
       "0  AC   P0A770; P77145;\\nManganese transport prot...                1  1\n",
       "1  AC   P0A769; P77145;\\nManganese transport prot...                1  1\n",
       "2  AC   P37329;\\nMolybdate-binding periplasmic pr...                1  1\n",
       "3  AC   P0AF02; P09834; P77537;\\nMolybdenum trans...                1  1\n",
       "4  AC   P0AF01; P09834; P77537;\\nMolybdenum trans...                1  1"
      ]
     },
     "execution_count": 337,
     "metadata": {},
     "output_type": "execute_result"
    }
   ],
   "source": [
    "messages=DF.copy()\n",
    "messages.head()\n"
   ]
  },
  {
   "cell_type": "code",
   "execution_count": 338,
   "id": "c4a3a9fb",
   "metadata": {},
   "outputs": [
    {
     "data": {
      "text/plain": [
       "str"
      ]
     },
     "execution_count": 338,
     "metadata": {},
     "output_type": "execute_result"
    }
   ],
   "source": [
    "type(messages['Text'][0])"
   ]
  },
  {
   "cell_type": "code",
   "execution_count": 339,
   "id": "35b4f8de",
   "metadata": {},
   "outputs": [
    {
     "data": {
      "text/plain": [
       "7305"
      ]
     },
     "execution_count": 339,
     "metadata": {},
     "output_type": "execute_result"
    }
   ],
   "source": [
    "len(messages)"
   ]
  },
  {
   "cell_type": "code",
   "execution_count": 340,
   "id": "6016209e",
   "metadata": {},
   "outputs": [],
   "source": [
    "##text preprocessing\n",
    "from nltk.corpus import stopwords\n",
    "from nltk.stem.porter import PorterStemmer\n",
    "import re\n",
    "ps = PorterStemmer()\n",
    "corpus = []\n",
    "for i in range(0, len(messages)):\n",
    "    review = re.sub('[^a-zA-Z]', ' ', messages['Text'][i])\n",
    "    review = review.lower()\n",
    "    review = review.split()\n",
    "    \n",
    "    review = [ps.stem(word) for word in review if not word in stopwords.words('english')]\n",
    "    review = ' '.join(review)\n",
    "    corpus.append(review)"
   ]
  },
  {
   "cell_type": "code",
   "execution_count": 341,
   "id": "41e86132",
   "metadata": {},
   "outputs": [
    {
     "data": {
      "text/plain": [
       "'ac p c p small conduct mechanosensit channel genom sequenc shigella flexneri insight pathogen comparison genom escherichia coli k complet genom sequenc compar genom shigella flexneri serotyp strain function mechanosensit channel particip regul osmot pressur chang within cell form ion channel nanosiemen conduct slight prefer anion channel sensit voltag similar subunit homoheptam similar subcellular locat cell inner membran multi pass membran protein similar similar belong msc tc famili complet proteom inner membran ion transport ionic channel membran transmembran transport ththree'"
      ]
     },
     "execution_count": 341,
     "metadata": {},
     "output_type": "execute_result"
    }
   ],
   "source": [
    "corpus[40]"
   ]
  },
  {
   "cell_type": "code",
   "execution_count": 342,
   "id": "0a110144",
   "metadata": {},
   "outputs": [],
   "source": [
    "## TFidf Vectorizer\n",
    "from sklearn.feature_extraction.text import TfidfVectorizer\n",
    "tfidf_v=TfidfVectorizer(max_features=5000,ngram_range=(1,3))\n",
    "X=tfidf_v.fit_transform(corpus).toarray()"
   ]
  },
  {
   "cell_type": "code",
   "execution_count": 343,
   "id": "d987b208",
   "metadata": {},
   "outputs": [
    {
     "data": {
      "text/plain": [
       "(7305, 5000)"
      ]
     },
     "execution_count": 343,
     "metadata": {},
     "output_type": "execute_result"
    }
   ],
   "source": [
    "X.shape"
   ]
  },
  {
   "cell_type": "markdown",
   "id": "5f93d54e",
   "metadata": {},
   "source": [
    "# 1. Ideal : Training on positive vs negative datapoints"
   ]
  },
  {
   "cell_type": "code",
   "execution_count": null,
   "id": "07302162",
   "metadata": {},
   "outputs": [],
   "source": []
  },
  {
   "cell_type": "code",
   "execution_count": 344,
   "id": "252840d7",
   "metadata": {},
   "outputs": [],
   "source": [
    "y=messages['actual_label(Y)']"
   ]
  },
  {
   "cell_type": "code",
   "execution_count": 345,
   "id": "6808602a",
   "metadata": {},
   "outputs": [],
   "source": [
    "## Divide the dataset into Train and Test\n",
    "from sklearn.model_selection import train_test_split\n",
    "X_train, X_test, y_train, y_test = train_test_split(X,y , test_size=0.30, random_state=0)"
   ]
  },
  {
   "cell_type": "code",
   "execution_count": 346,
   "id": "c3dbd5cb",
   "metadata": {},
   "outputs": [
    {
     "name": "stdout",
     "output_type": "stream",
     "text": [
      "[[1327   35]\n",
      " [  45  785]]\n"
     ]
    }
   ],
   "source": [
    "from sklearn.svm import SVC\n",
    "from sklearn.metrics import confusion_matrix\n",
    "\n",
    "# create an instance of the SVM classifier with a linear kernel and a soft margin\n",
    "clf = SVC(kernel='linear', C=1.0, probability=True)\n",
    "\n",
    "# train the classifier on the training data\n",
    "clf.fit(X_train, y_train)\n",
    "\n",
    "# make predictions on the test data\n",
    "y_pred = clf.predict(X_test)\n",
    "\n",
    "# calculate the confusion matrix\n",
    "cm = confusion_matrix(y_test, y_pred)\n",
    "\n",
    "# print the confusion matrix\n",
    "print(cm)"
   ]
  },
  {
   "cell_type": "code",
   "execution_count": 347,
   "id": "cf9b0721",
   "metadata": {},
   "outputs": [
    {
     "name": "stdout",
     "output_type": "stream",
     "text": [
      "Accuracy: 0.9635036496350365\n",
      "F1 score: 0.9515151515151515\n",
      "AUC-ROC score: 0.9600428144295243\n"
     ]
    }
   ],
   "source": [
    "import numpy as np\n",
    "from sklearn.metrics import accuracy_score, f1_score, roc_auc_score, roc_curve\n",
    "\n",
    "\n",
    "\n",
    "# Calculate accuracy\n",
    "accuracy = accuracy_score(y_test, y_pred)\n",
    "\n",
    "# Calculate F1 score\n",
    "f1 = f1_score(y_test, y_pred)\n",
    "\n",
    "# Calculate AUC-ROC score\n",
    "auc_roc = roc_auc_score(y_test, y_pred)\n",
    "\n",
    "# Get ROC curve values\n",
    "#fpr, tpr, thresholds = roc_curve(actual_label, f_pred)\n",
    "\n",
    "print(\"Accuracy:\", accuracy)\n",
    "print(\"F1 score:\", f1)\n",
    "print(\"AUC-ROC score:\", auc_roc)"
   ]
  },
  {
   "cell_type": "markdown",
   "id": "9f0c05c4",
   "metadata": {},
   "source": [
    "Conclusion: \n",
    "this is simple classification problem using linear soft-svm , so here i got good result as \n",
    "Accuracy: 0.9635036496350365\n",
    "F1 score: 0.9515151515151515\n",
    "AUC-ROC score: 0.9600428144295243 \n",
    "it is almost equal to given research paper result."
   ]
  },
  {
   "cell_type": "code",
   "execution_count": null,
   "id": "55e64cc7",
   "metadata": {},
   "outputs": [],
   "source": []
  },
  {
   "cell_type": "markdown",
   "id": "de84aeff",
   "metadata": {},
   "source": [
    "# 2. Using probablistic approach"
   ]
  },
  {
   "cell_type": "code",
   "execution_count": null,
   "id": "51c7d6e6",
   "metadata": {},
   "outputs": [],
   "source": []
  },
  {
   "cell_type": "code",
   "execution_count": 348,
   "id": "31ecdc8c",
   "metadata": {},
   "outputs": [],
   "source": [
    "S=messages['S']"
   ]
  },
  {
   "cell_type": "code",
   "execution_count": 349,
   "id": "c14814fd",
   "metadata": {},
   "outputs": [],
   "source": [
    "## Divide the dataset into Train and Test\n",
    "from sklearn.model_selection import train_test_split\n",
    "X_train, X_test, y_train, y_test = train_test_split(X, S, test_size=0.30, random_state=0)"
   ]
  },
  {
   "cell_type": "code",
   "execution_count": 350,
   "id": "1fc64a70",
   "metadata": {},
   "outputs": [
    {
     "name": "stdout",
     "output_type": "stream",
     "text": [
      "[[1377   97]\n",
      " [  65  653]]\n"
     ]
    }
   ],
   "source": [
    "from sklearn.svm import SVC\n",
    "from sklearn.metrics import confusion_matrix\n",
    "\n",
    "# create an instance of the SVM classifier with a linear kernel and a soft margin\n",
    "clf = SVC(kernel='linear', C=1.0, probability=True)\n",
    "\n",
    "# train the classifier on the training data\n",
    "clf.fit(X_train, y_train)\n",
    "\n",
    "# make predictions on the test data\n",
    "y_pred = clf.predict(X_test)\n",
    "\n",
    "# calculate the confusion matrix\n",
    "cm = confusion_matrix(y_test, y_pred)\n",
    "\n",
    "# print the confusion matrix\n",
    "print(cm)\n",
    "\n",
    "# predict the probability of each test data point belonging to class 1\n",
    "#proba = clf.predict_proba(x_test)[:, 1]\n",
    "def Nontraditional_classifier(X_test):\n",
    "    return clf.predict_proba(X_test)[:, 1]\n",
    "    \n",
    "# print the probabilities\n",
    "#print(proba)\n"
   ]
  },
  {
   "cell_type": "code",
   "execution_count": 351,
   "id": "3e6e3740",
   "metadata": {},
   "outputs": [
    {
     "name": "stdout",
     "output_type": "stream",
     "text": [
      "Expected value of nontraditional classifier on positive datapoints C = [0.86073617]\n"
     ]
    }
   ],
   "source": [
    "##for finding the expected value of C= average of Nontraditional classifier on labelled datapoints.\n",
    "c=0\n",
    "for i in range (2399):\n",
    "    p=X[i]\n",
    "    p=p.reshape(1,-1)\n",
    "    c+= Nontraditional_classifier(p)\n",
    "C=c/2399\n",
    "print(\"Expected value of nontraditional classifier on positive datapoints C =\", C)\n",
    "    "
   ]
  },
  {
   "cell_type": "markdown",
   "id": "b8c3c345",
   "metadata": {},
   "source": [
    "Here i got the value of C is 0.86073617 which is almost equal to the value obtained in research paper (0.86073617)"
   ]
  },
  {
   "cell_type": "code",
   "execution_count": 352,
   "id": "dc2118a5",
   "metadata": {},
   "outputs": [
    {
     "name": "stdout",
     "output_type": "stream",
     "text": [
      "[0.97682125]\n"
     ]
    }
   ],
   "source": [
    "\n",
    "p=X[1567]\n",
    "p=p.reshape(1,-1)\n",
    "l= Nontraditional_classifier(p)\n",
    "print(l)"
   ]
  },
  {
   "cell_type": "code",
   "execution_count": 353,
   "id": "afa1f588",
   "metadata": {},
   "outputs": [],
   "source": [
    "def Traditional_classifier(X_test):\n",
    "    g=Nontraditional_classifier(X_test)\n",
    "    f=g/C\n",
    "    return f\n",
    "\n",
    "    "
   ]
  },
  {
   "cell_type": "code",
   "execution_count": 358,
   "id": "e373afe2",
   "metadata": {},
   "outputs": [],
   "source": [
    "##to find the predicted values such that the datapoints are belongs to postive or negative class (y=1 or 0).\n",
    "import numpy\n",
    "lst=[]\n",
    "\n",
    "for z in range(7305):\n",
    "    p=X[z]\n",
    "    p=p.reshape(1,-1)\n",
    "    l=Traditional_classifier(p)\n",
    "    if l>= 0.5:\n",
    "        m=1\n",
    "    else:\n",
    "        m=-1\n",
    "    lst.append(m)\n",
    "\n",
    "f_pred = numpy.array(lst)"
   ]
  },
  {
   "cell_type": "code",
   "execution_count": 359,
   "id": "795cebf6",
   "metadata": {},
   "outputs": [],
   "source": [
    "new_array=DF['actual_label(Y)']"
   ]
  },
  {
   "cell_type": "code",
   "execution_count": 360,
   "id": "2d9400b7",
   "metadata": {},
   "outputs": [
    {
     "data": {
      "text/plain": [
       "numpy.ndarray"
      ]
     },
     "execution_count": 360,
     "metadata": {},
     "output_type": "execute_result"
    }
   ],
   "source": [
    "\n",
    "actual_label = new_array.to_numpy()\n",
    "type(actual_label)"
   ]
  },
  {
   "cell_type": "code",
   "execution_count": 361,
   "id": "bf69887d",
   "metadata": {},
   "outputs": [
    {
     "name": "stdout",
     "output_type": "stream",
     "text": [
      "Accuracy: 0.9561943874058864\n",
      "F1 score: 0.939209726443769\n",
      "AUC-ROC score: 0.945009019373003\n"
     ]
    }
   ],
   "source": [
    "import numpy as np\n",
    "from sklearn.metrics import accuracy_score, f1_score, roc_auc_score, roc_curve\n",
    "\n",
    "\n",
    "\n",
    "# Calculate accuracy\n",
    "accuracy = accuracy_score(actual_label, f_pred)\n",
    "\n",
    "# Calculate F1 score\n",
    "f1 = f1_score(actual_label, f_pred)\n",
    "\n",
    "# Calculate AUC-ROC score\n",
    "auc_roc = roc_auc_score(actual_label, f_pred)\n",
    "\n",
    "# Get ROC curve values\n",
    "#fpr, tpr, thresholds = roc_curve(actual_label, f_pred)\n",
    "\n",
    "print(\"Accuracy:\", accuracy)\n",
    "print(\"F1 score:\", f1)\n",
    "print(\"AUC-ROC score:\", auc_roc)\n"
   ]
  },
  {
   "cell_type": "markdown",
   "id": "8effa963",
   "metadata": {},
   "source": [
    "Conclusion: \n",
    "in this section i made traditional and nontraditional classifier using only labelled and unlabelled datapoints. this is main algorithm of paper. here i got expected value of C = 0.86073617 which is almost equal to paper value.\n",
    "Accuracy: 0.9561943874058864\n",
    "F1 score: 0.939209726443769\n",
    "AUC-ROC score: 0.945009019373003\n",
    "finally these result match with research paper result."
   ]
  },
  {
   "cell_type": "code",
   "execution_count": null,
   "id": "2229ca57",
   "metadata": {},
   "outputs": [],
   "source": []
  },
  {
   "cell_type": "markdown",
   "id": "10bf9309",
   "metadata": {},
   "source": [
    "# 3. Weighting approach"
   ]
  },
  {
   "cell_type": "code",
   "execution_count": null,
   "id": "ca0dc6f9",
   "metadata": {},
   "outputs": [],
   "source": []
  },
  {
   "cell_type": "code",
   "execution_count": 362,
   "id": "5f5ed5b2",
   "metadata": {},
   "outputs": [],
   "source": [
    "## As in research paper we know that W is defined as p(y=1|x) and for this formula is derived in paper.\n",
    "\n",
    "def weight(X_test):\n",
    "    g=Nontraditional_classifier(X_test)\n",
    "    g=g[0]\n",
    "    C=0.85960346\n",
    "    w=((1-C)/C)*(g/(1-g))\n",
    "    return w"
   ]
  },
  {
   "cell_type": "code",
   "execution_count": 365,
   "id": "8bf9aa71",
   "metadata": {},
   "outputs": [],
   "source": [
    "lst2=[]\n",
    "for q in range(7305):\n",
    "    if q<=2398:\n",
    "        m=1\n",
    "    else:\n",
    "        p=X[q]\n",
    "        p=p.reshape(1,-1)\n",
    "        l=weight(p)\n",
    "        if l>= 0.5:\n",
    "            m=1\n",
    "        else:\n",
    "            m=-1\n",
    "    lst2.append(m)\n",
    "\n",
    "weight_pred = numpy.array(lst2)"
   ]
  },
  {
   "cell_type": "code",
   "execution_count": 366,
   "id": "57073af4",
   "metadata": {},
   "outputs": [
    {
     "data": {
      "text/plain": [
       "numpy.ndarray"
      ]
     },
     "execution_count": 366,
     "metadata": {},
     "output_type": "execute_result"
    }
   ],
   "source": [
    "weight_pred\n",
    "type(weight_pred)"
   ]
  },
  {
   "cell_type": "code",
   "execution_count": 367,
   "id": "4fe9bffe",
   "metadata": {},
   "outputs": [
    {
     "name": "stdout",
     "output_type": "stream",
     "text": [
      "Accuracy: 0.9670088980150582\n",
      "F1 score: 0.9542434023163091\n",
      "AUC-ROC score: 0.9566402008940944\n"
     ]
    }
   ],
   "source": [
    "import numpy as np\n",
    "from sklearn.metrics import accuracy_score, f1_score, roc_auc_score, roc_curve\n",
    "\n",
    "\n",
    "\n",
    "# Calculate accuracy\n",
    "accuracy = accuracy_score(actual_label, weight_pred)\n",
    "\n",
    "# Calculate F1 score\n",
    "f1 = f1_score(actual_label, weight_pred)\n",
    "\n",
    "# Calculate AUC-ROC score\n",
    "auc_roc = roc_auc_score(actual_label, weight_pred)\n",
    "\n",
    "# Get ROC curve values\n",
    "#fpr, tpr, thresholds = roc_curve(actual_label, f_pred)\n",
    "\n",
    "print(\"Accuracy:\", accuracy)\n",
    "print(\"F1 score:\", f1)\n",
    "print(\"AUC-ROC score:\", auc_roc)"
   ]
  },
  {
   "cell_type": "markdown",
   "id": "de608c64",
   "metadata": {},
   "source": [
    "Conclusion:\n",
    "As the derivation mentioned in paper for calculate the weight p(y=1|x), i made function using Nontraditional classifier and value C.\n",
    "Accuracy: 0.9670088980150582\n",
    "F1 score: 0.9542434023163091\n",
    "AUC-ROC score: 0.9566402008940944\n",
    "These are equivalent to paper result."
   ]
  },
  {
   "cell_type": "code",
   "execution_count": null,
   "id": "6e503647",
   "metadata": {},
   "outputs": [],
   "source": []
  },
  {
   "cell_type": "markdown",
   "id": "748b9543",
   "metadata": {},
   "source": [
    "# 4. Biased SVM from previous reasearch paper."
   ]
  },
  {
   "cell_type": "code",
   "execution_count": null,
   "id": "d11f100f",
   "metadata": {},
   "outputs": [],
   "source": []
  },
  {
   "cell_type": "code",
   "execution_count": 368,
   "id": "49c64bcd",
   "metadata": {},
   "outputs": [],
   "source": [
    "y=messages['actual_label(Y)']"
   ]
  },
  {
   "cell_type": "code",
   "execution_count": 369,
   "id": "ad271e5d",
   "metadata": {},
   "outputs": [],
   "source": [
    "S=messages['S']"
   ]
  },
  {
   "cell_type": "code",
   "execution_count": 370,
   "id": "639f8892",
   "metadata": {},
   "outputs": [],
   "source": [
    "## Divide the dataset into Train and Test\n",
    "from sklearn.model_selection import train_test_split\n",
    "X_train, X_test, y_train, y_test = train_test_split(X, S, test_size=0.30, random_state=0)"
   ]
  },
  {
   "cell_type": "code",
   "execution_count": 371,
   "id": "9cfe83b0",
   "metadata": {},
   "outputs": [],
   "source": [
    "from sklearn.svm import SVC\n",
    "from sklearn.metrics import confusion_matrix\n",
    "\n",
    "# create an instance of the SVM classifier with a linear kernel and a soft margin\n",
    "clf = SVC(kernel='linear', probability=True,class_weight={1:0.1,-1:0.01})\n",
    "\n",
    "# train the classifier on the training data\n",
    "clf.fit(X_train, y_train)\n",
    "\n",
    "# make predictions on the test data\n",
    "y_pred = clf.predict(X_test)\n",
    "\n",
    "\n"
   ]
  },
  {
   "cell_type": "code",
   "execution_count": 372,
   "id": "86db8945",
   "metadata": {},
   "outputs": [
    {
     "name": "stdout",
     "output_type": "stream",
     "text": [
      "[[ 319 1043]\n",
      " [   0  830]]\n"
     ]
    }
   ],
   "source": [
    "# In above cell y_pred is telling the predected values of S(labelled or unlabelled) but we will consider these values\n",
    "# as of y(positive or negative classified) as mentioned in paper. And compare these with actual label\n",
    "\n",
    "\n",
    "from sklearn.model_selection import train_test_split\n",
    "X_train, X_test, y_train, y_test = train_test_split(X, y , test_size=0.30, random_state=0)\n",
    "\n",
    "corresponding_y = y_test.to_numpy()\n",
    "\n",
    "\n",
    "\n",
    "cm = confusion_matrix(corresponding_y, y_pred)\n",
    "\n",
    "# print the confusion matrix\n",
    "print(cm)"
   ]
  },
  {
   "cell_type": "code",
   "execution_count": 374,
   "id": "455c2c55",
   "metadata": {},
   "outputs": [
    {
     "name": "stdout",
     "output_type": "stream",
     "text": [
      "Accuracy: 0.5241788321167883\n",
      "F1 score: 0.6141324454310025\n",
      "AUC-ROC score: 0.6171071953010279\n"
     ]
    }
   ],
   "source": [
    "import numpy as np\n",
    "from sklearn.metrics import accuracy_score, f1_score, roc_auc_score, roc_curve\n",
    "\n",
    "\n",
    "\n",
    "# Calculate accuracy\n",
    "accuracy = accuracy_score(corresponding_y, y_pred)\n",
    "\n",
    "# Calculate F1 score\n",
    "f1 = f1_score(corresponding_y, y_pred)\n",
    "\n",
    "# Calculate AUC-ROC score\n",
    "auc_roc = roc_auc_score(corresponding_y, y_pred)\n",
    "\n",
    "# Get ROC curve values\n",
    "#fpr, tpr, thresholds = roc_curve(actual_label, f_pred)\n",
    "\n",
    "print(\"Accuracy:\", accuracy)\n",
    "print(\"F1 score:\", f1)\n",
    "print(\"AUC-ROC score:\", auc_roc)"
   ]
  },
  {
   "cell_type": "markdown",
   "id": "71501c9f",
   "metadata": {},
   "source": [
    "Conclusioin:\n",
    "This approach was given in previous study. here i gave the different-2 value of c in svm classifier for labelled and unlabelled datapoints.\n",
    "Results are not good because we know that in case of noisy dataset( in our case negative points are noisy with positive one) it will not work well. \n",
    "But as we know that by this algo. we got high TPR, so it is useful in such scenario where high TPR required like in medical dataset(identified cancer patients)."
   ]
  },
  {
   "cell_type": "code",
   "execution_count": null,
   "id": "26816d7b",
   "metadata": {},
   "outputs": [],
   "source": []
  },
  {
   "cell_type": "markdown",
   "id": "23717b0c",
   "metadata": {},
   "source": [
    "# Novelty (clustering)"
   ]
  },
  {
   "cell_type": "code",
   "execution_count": null,
   "id": "f3e2db9e",
   "metadata": {},
   "outputs": [],
   "source": []
  },
  {
   "cell_type": "code",
   "execution_count": 375,
   "id": "b3cea0b9",
   "metadata": {},
   "outputs": [
    {
     "name": "stdout",
     "output_type": "stream",
     "text": [
      "630 data points belong to c1, and 1769 data points belong to c2 out of all positive datapoints\n"
     ]
    }
   ],
   "source": [
    "from sklearn.cluster import KMeans\n",
    "\n",
    "\n",
    "\n",
    "# initialize k-means with 2 clusters\n",
    "kmeans = KMeans(n_clusters=2, random_state=0)\n",
    "\n",
    "# fit the k-means model to the data\n",
    "kmeans.fit(X)\n",
    "\n",
    "# get the cluster assignments for each data point\n",
    "cluster_labels = kmeans.labels_\n",
    "\n",
    "# count the number of data points from X[0] to X[2398] that belong to each cluster\n",
    "c1_count = sum(cluster_labels[:2399] == 0)\n",
    "c2_count = sum(cluster_labels[:2399] == 1)\n",
    "\n",
    "print(f\"{c1_count} data points belong to c1, and {c2_count} data points belong to c2 out of all positive datapoints\")\n"
   ]
  },
  {
   "cell_type": "markdown",
   "id": "f6754f1d",
   "metadata": {},
   "source": [
    "here we are seeing that out of 2399 datapoints 630 belongs to c1(0) and 1769 belongs to c2(1) cluster. now we can say that \n",
    "there are noisy data so clustering will not be very benificial. But on the basis of majority vote we can say that cluster c2 contain positive data points and c1 contains negative datapoints."
   ]
  },
  {
   "cell_type": "code",
   "execution_count": 378,
   "id": "1c2fb6b5",
   "metadata": {},
   "outputs": [
    {
     "data": {
      "text/plain": [
       "array([1, 0, 0, ..., 1, 1, 1])"
      ]
     },
     "execution_count": 378,
     "metadata": {},
     "output_type": "execute_result"
    }
   ],
   "source": [
    "cluster_labels"
   ]
  },
  {
   "cell_type": "code",
   "execution_count": 379,
   "id": "b774bfc3",
   "metadata": {},
   "outputs": [],
   "source": [
    "#in our dataset we have y =1 or -1 but in clustering c1(0) means negative datapoints so for comparing i changed c1 0 to -1.\n",
    "cluster_labels[cluster_labels == 0] = -1"
   ]
  },
  {
   "cell_type": "code",
   "execution_count": 381,
   "id": "20748477",
   "metadata": {},
   "outputs": [
    {
     "name": "stdout",
     "output_type": "stream",
     "text": [
      "[[  92 4466]\n",
      " [ 660 2087]]\n"
     ]
    }
   ],
   "source": [
    "cm = confusion_matrix(y, cluster_labels )\n",
    "\n",
    "# print the confusion matrix\n",
    "print(cm)"
   ]
  },
  {
   "cell_type": "code",
   "execution_count": 382,
   "id": "06139f47",
   "metadata": {},
   "outputs": [
    {
     "name": "stdout",
     "output_type": "stream",
     "text": [
      "Accuracy: 0.29828884325804245\n",
      "F1 score: 0.4488172043010753\n",
      "AUC-ROC score: 0.38996109362113973\n"
     ]
    }
   ],
   "source": [
    "import numpy as np\n",
    "from sklearn.metrics import accuracy_score, f1_score, roc_auc_score, roc_curve\n",
    "\n",
    "\n",
    "\n",
    "# Calculate accuracy\n",
    "accuracy = accuracy_score(y, cluster_labels)\n",
    "\n",
    "# Calculate F1 score\n",
    "f1 = f1_score(y, cluster_labels)\n",
    "\n",
    "# Calculate AUC-ROC score\n",
    "auc_roc = roc_auc_score(y, cluster_labels)\n",
    "\n",
    "# Get ROC curve values\n",
    "#fpr, tpr, thresholds = roc_curve(actual_label, f_pred)\n",
    "\n",
    "print(\"Accuracy:\", accuracy)\n",
    "print(\"F1 score:\", f1)\n",
    "print(\"AUC-ROC score:\", auc_roc)"
   ]
  },
  {
   "cell_type": "markdown",
   "id": "00985c36",
   "metadata": {},
   "source": [
    "Conclusion:\n",
    "This is my idea to use clustering for this type problem. but i think this approach will work well if dataset is not noisy. in our case there is noisy so this approach is not working good.\n",
    "Or we can use such clustering that will not be more effected by noisy datapoints like DBSCAN."
   ]
  },
  {
   "cell_type": "code",
   "execution_count": null,
   "id": "49fbfd48",
   "metadata": {},
   "outputs": [],
   "source": []
  },
  {
   "cell_type": "code",
   "execution_count": 384,
   "id": "addfd4ab",
   "metadata": {},
   "outputs": [
    {
     "name": "stdout",
     "output_type": "stream",
     "text": [
      "2 data points belong to c1, and 1 data points belong to c2\n"
     ]
    }
   ],
   "source": [
    "from sklearn.cluster import DBSCAN\n",
    "\n",
    "\n",
    "\n",
    "# initialize DBSCAN with eps and min_samples parameters\n",
    "dbscan = DBSCAN(eps=0.5, min_samples=)\n",
    "\n",
    "# fit the DBSCAN model to the data\n",
    "dbscan.fit(X)\n",
    "\n",
    "# get the cluster assignments for each data point\n",
    "cluster_labels1 = dbscan.labels_\n",
    "\n",
    "# count the number of data points from X[0] to X[2398] that belong to each cluster\n",
    "c1_count = sum(cluster_labels1[:2399] == 0)\n",
    "c2_count = sum(cluster_labels1[:2399] == 1)\n",
    "\n",
    "print(f\"{c1_count} data points belong to c1, and {c2_count} data points belong to c2\")\n"
   ]
  },
  {
   "cell_type": "code",
   "execution_count": null,
   "id": "28043056",
   "metadata": {},
   "outputs": [],
   "source": []
  }
 ],
 "metadata": {
  "kernelspec": {
   "display_name": "Python 3 (ipykernel)",
   "language": "python",
   "name": "python3"
  },
  "language_info": {
   "codemirror_mode": {
    "name": "ipython",
    "version": 3
   },
   "file_extension": ".py",
   "mimetype": "text/x-python",
   "name": "python",
   "nbconvert_exporter": "python",
   "pygments_lexer": "ipython3",
   "version": "3.9.12"
  }
 },
 "nbformat": 4,
 "nbformat_minor": 5
}
